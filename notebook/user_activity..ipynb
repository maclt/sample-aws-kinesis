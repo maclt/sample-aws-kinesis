{
  "cells": [
    {
      "cell_type": "code",
      "execution_count": 0,
      "metadata": {
        "autoscroll": "auto"
      },
      "outputs": [],
      "source": [
        "%flink.ssql\n",
        "DROP TABLE IF EXISTS user_activity;\n",
        "\n",
        "CREATE TABLE user_activity (\n",
        "    UserID STRING,\n",
        "    SessionID STRING,\n",
        "    ActivityType STRING,\n",
        "    CreatedAt TIMESTAMP(3),\n",
        "    ProductID STRING,\n",
        "    Category STRING,\n",
        "    Price DOUBLE,\n",
        "    Location STRING,\n",
        "    Device STRING\n",
        ") WITH (\n",
        "    'connector' = 'kinesis',\n",
        "    'stream' = 'Fill your stream name',\n",
        "    'aws.region' = 'ap-northeast-1',\n",
        "    'scan.stream.initpos' = 'LATEST',\n",
        "    'format' = 'json'\n",
        ");"
      ]
    },
    {
      "cell_type": "code",
      "execution_count": 1,
      "metadata": {
        "autoscroll": "auto"
      },
      "outputs": [],
      "source": [
        "%flink.ssql\n",
        "SHOW TABLES;"
      ]
    },
    {
      "cell_type": "code",
      "execution_count": 2,
      "metadata": {
        "autoscroll": "auto"
      },
      "outputs": [],
      "source": [
        "%flink.ssql\n",
        "DESCRIBE user_activity;"
      ]
    },
    {
      "cell_type": "code",
      "execution_count": 3,
      "metadata": {
        "autoscroll": "auto"
      },
      "outputs": [],
      "source": [
        "%flink.ssql(type=update)\n",
        "\n",
        "SELECT *\n",
        "FROM user_activity"
      ]
    },
    {
      "cell_type": "code",
      "execution_count": 4,
      "metadata": {
        "autoscroll": "auto"
      },
      "outputs": [],
      "source": [
        "%flink.ssql(type=update)\n",
        "\n",
        "SELECT UserID, SUM(Price)\n",
        "FROM user_activity\n",
        "WHERE ActivityType = 'Purchase'\n",
        "GROUP BY UserID"
      ]
    },
    {
      "cell_type": "code",
      "execution_count": 5,
      "metadata": {
        "autoscroll": "auto"
      },
      "outputs": [],
      "source": [
        "%flink.ssql(type=update)\n",
        "\n",
        "SELECT Location, SUM(Price)\n",
        "FROM user_activity\n",
        "WHERE ActivityType = 'Purchase'\n",
        "GROUP BY Location"
      ]
    },
    {
      "cell_type": "code",
      "execution_count": 6,
      "metadata": {
        "autoscroll": "auto"
      },
      "outputs": [],
      "source": [
        "%flink.ssql(type=update)\n",
        "\n",
        "SELECT Category, COUNT(Category)\n",
        "FROM user_activity\n",
        "WHERE ActivityType = 'Purchase'\n",
        "GROUP BY Category"
      ]
    },
    {
      "cell_type": "code",
      "execution_count": 7,
      "metadata": {
        "autoscroll": "auto"
      },
      "outputs": [],
      "source": [
        "%flink.ssql(type=update)\n",
        "\n",
        "SELECT Location, Category, COUNT(*)\n",
        "FROM user_activity\n",
        "WHERE ActivityType = 'Purchase'\n",
        "GROUP BY Location, Category"
      ]
    },
    {
      "cell_type": "code",
      "execution_count": 8,
      "metadata": {
        "autoscroll": "auto"
      },
      "outputs": [],
      "source": [
        "%flink.ssql\n"
      ]
    }
  ],
  "metadata": {
    "kernelspec": {
      "language": "scala",
      "name": "spark2-scala"
    },
    "language_info": {
      "codemirror_mode": "text/x-scala",
      "file_extension": ".scala",
      "mimetype": "text/x-scala",
      "name": "scala",
      "pygments_lexer": "scala"
    },
    "name": "user_activity"
  },
  "nbformat": 4,
  "nbformat_minor": 2
}
